{
  "nbformat": 4,
  "nbformat_minor": 0,
  "metadata": {
    "colab": {
      "name": "processing dance video.ipynb",
      "provenance": [],
      "collapsed_sections": [
        "OebPptXCK62U",
        "IJvhKJfXNgqC",
        "dd6Ml2qmNno7",
        "b7OF7dLmlZHn"
      ]
    },
    "kernelspec": {
      "name": "python3",
      "display_name": "Python 3"
    },
    "language_info": {
      "name": "python"
    },
    "accelerator": "GPU"
  },
  "cells": [
    {
      "cell_type": "markdown",
      "metadata": {
        "id": "caYSY9l7MNoW"
      },
      "source": [
        "# Processing video\n",
        "In this colab notebook, we will show how to make dataset from video.\n",
        "\n",
        "Enjoy!"
      ]
    },
    {
      "cell_type": "markdown",
      "metadata": {
        "id": "zABNQSIKL3zt"
      },
      "source": [
        "# Preparations\n",
        "Before start, make sure that you choose\n",
        "* Hardware Accelerator = GPU\n",
        "\n",
        "in the **Runtime** menu -> **Change runtime type**\n"
      ]
    },
    {
      "cell_type": "markdown",
      "metadata": {
        "id": "OebPptXCK62U"
      },
      "source": [
        "## Connect google drive"
      ]
    },
    {
      "cell_type": "code",
      "metadata": {
        "colab": {
          "base_uri": "https://localhost:8080/"
        },
        "id": "vXlXyctm0XpO",
        "outputId": "2e96e1f2-a6b2-4517-93d6-11d4158a59d9"
      },
      "source": [
        "from google.colab import drive\n",
        "drive.mount('/content/drive', force_remount=True)"
      ],
      "execution_count": 1,
      "outputs": [
        {
          "output_type": "stream",
          "text": [
            "Mounted at /content/drive\n"
          ],
          "name": "stdout"
        }
      ]
    },
    {
      "cell_type": "code",
      "metadata": {
        "id": "mtmYwHdz2a_n"
      },
      "source": [
        "folder_path = '/content/drive/MyDrive/dancegan/bruno_mars/'\n",
        "target = '/content/drive/MyDrive/dancegan/nuras/keys/'\n",
        "colab_openpose_video_path = '/content/drive/MyDrive/dancegan/bruno_mars/'\n",
        "folder_path_json = '/content/drive/MyDrive/dancegan/bruno_mars/keys/'\n",
        "folder_path_image = '/content/drive/MyDrive/dancegan/bruno_mars/frames/'\n",
        "\n",
        "result = '/content/drive/MyDrive/dancegan/nuras/avesmooth/train_label/'\n",
        "result_video = '/content/drive/MyDrive/dancegan/nuras/'\n",
        "\n",
        "posenorm_results = '/content/drive/MyDrive/dancegan/bruno_mars/posenorm/'\n",
        "avesmooth_results = '/content/drive/MyDrive/dancegan/bruno_mars/avesmooth/'"
      ],
      "execution_count": 2,
      "outputs": []
    },
    {
      "cell_type": "code",
      "metadata": {
        "id": "fPwLrNEFoBDG"
      },
      "source": [
        "# folder_path = '/content/drive/MyDrive/dancegan/nuras/'\n",
        "# target = '/content/drive/MyDrive/dancegan/nuras/keys/'\n",
        "# colab_openpose_video_path = '/content/drive/MyDrive/dancegan/bruno_mars/'\n",
        "# folder_path_json = '/content/drive/MyDrive/dancegan/nuras/keys/'\n",
        "# folder_path_image = '/content/drive/MyDrive/dancegan/nuras/frames/'\n",
        "# train_results = '/content/drive/MyDrive/dancegan/nuras/train/'\n",
        "# posenorm_results = '/content/drive/MyDrive/dancegan/bruno_mars/posenorm/'\n",
        "# avesmooth_results = '/content/drive/MyDrive/dancegan/bruno_mars/avesmooth'"
      ],
      "execution_count": 3,
      "outputs": []
    },
    {
      "cell_type": "markdown",
      "metadata": {
        "id": "IJvhKJfXNgqC"
      },
      "source": [
        "## Set up environment"
      ]
    },
    {
      "cell_type": "code",
      "metadata": {
        "id": "zrpaClen0qO7"
      },
      "source": [
        "%%capture\n",
        "!pip install dominate\n",
        "!git clone https://github.com/OrionChocoPie/EverybodyDanceNow.git\n",
        "\n",
        "import os\n",
        "from os.path import exists, join, basename, splitext\n",
        "\n",
        "git_repo_url = 'https://github.com/CMU-Perceptual-Computing-Lab/openpose.git'\n",
        "project_name = splitext(basename(git_repo_url))[0]\n",
        "\n",
        "if 1 or not exists(project_name):\n",
        "  !rm -rf openpose\n",
        "  # see: https://github.com/CMU-Perceptual-Computing-Lab/openpose/issues/949\n",
        "\n",
        "  print(\"install new CMake becaue of CUDA10\")\n",
        "  if not exists('cmake-3.13.0-Linux-x86_64.tar.gz'):\n",
        "    !wget -q https://cmake.org/files/v3.13/cmake-3.13.0-Linux-x86_64.tar.gz\n",
        "  !tar xfz cmake-3.13.0-Linux-x86_64.tar.gz --strip-components=1 -C /usr/local\n",
        "\n",
        "  print(\"clone openpose\")\n",
        "  !git clone -q --depth 1 $git_repo_url\n",
        "  print(\"CMakelist.txt's caffe fix\")\n",
        "  !sed -i 's/execute_process(COMMAND git checkout master WORKING_DIRECTORY ${CMAKE_SOURCE_DIR}\\/3rdparty\\/caffe)/execute_process(COMMAND git checkout f019d0dfe86f49d1140961f8c7dec22130c83154 WORKING_DIRECTORY ${CMAKE_SOURCE_DIR}\\/3rdparty\\/caffe)/g' openpose/CMakeLists.txt\n",
        "  print(\"install system dependencies\")\n",
        "  !apt-get -qq install -y libatlas-base-dev libprotobuf-dev libleveldb-dev libsnappy-dev libhdf5-serial-dev protobuf-compiler libgflags-dev libgoogle-glog-dev liblmdb-dev opencl-headers ocl-icd-opencl-dev libviennacl-dev\n",
        "  print(\"build openpose\")\n",
        "  !cd openpose && rm -rf build || true && mkdir build && cd build && cmake .. && make -j`nproc`"
      ],
      "execution_count": 2,
      "outputs": []
    },
    {
      "cell_type": "markdown",
      "metadata": {
        "id": "dd6Ml2qmNno7"
      },
      "source": [
        "## Processing video"
      ]
    },
    {
      "cell_type": "code",
      "metadata": {
        "colab": {
          "base_uri": "https://localhost:8080/",
          "height": 229
        },
        "id": "aKc2Z9Rc0vzA",
        "outputId": "5774e2e9-3022-4575-eaa8-f9dda91c83dc"
      },
      "source": [
        "import os\n",
        "from os.path import exists, join, basename, splitext\n",
        "\n",
        "import re \n",
        "\n",
        "def sorted_nicely( l ): \n",
        "    \"\"\" Sort the given iterable in the way that humans expect.\"\"\" \n",
        "    convert = lambda text: int(text) if text.isdigit() else text \n",
        "    alphanum_key = lambda key: [ convert(c) for c in re.split('([0-9]+)', key) ] \n",
        "    return sorted(l, key = alphanum_key)\n",
        "\n",
        "!mkdir '{folder_path_json}'\n",
        "!mkdir '{folder_path_image}'\n",
        "files = os.listdir(folder_path)\n",
        "files.reverse()\n",
        "for filename in files:\n",
        "  if filename.endswith('.mp4') and not filename.endswith('-openpose.mp4'):\n",
        "    print(filename)\n",
        "    colab_video_path = folder_path + filename\n",
        "    print(colab_video_path)\n",
        "    colab_openpose_video_path = colab_video_path.replace('.mp4', '') + '-openpose.mp4'\n",
        "    print(colab_openpose_video_path)\n",
        "    if not exists(colab_openpose_video_path): \n",
        "      !ffmpeg -i '{colab_video_path}' -qscale:v 2 '{folder_path_image}/'output_%03d.jpg \n",
        "      files = os.listdir(folder_path_image)\n",
        "      \n",
        "      sorted_frames=[]\n",
        "      for x in sorted_nicely(files):\n",
        "          sorted_frames.append(x)\n",
        "      '''\n",
        "      count = 0\n",
        "      step = 3\n",
        "      \n",
        "      for filename in sorted_frames:\n",
        "        print(filename)\n",
        "        if count% step !=0:\n",
        "          !rm '{folder_path_image}''{filename}'\n",
        "        if count % step == 0:\n",
        "          print(count)\n",
        "        count = count + 1\n",
        "        #every third frame\n",
        "      '''\n",
        "      !cd openpose && ./build/examples/openpose/openpose.bin --hand --face --image_dir '{folder_path_image}' \\\n",
        "       --display 0 --render_pose  0\\\n",
        "       --write_json '{folder_path_json}' # -vframes 6000 \n",
        "      \n",
        "\n",
        "print('done!')"
      ],
      "execution_count": 3,
      "outputs": [
        {
          "output_type": "error",
          "ename": "NameError",
          "evalue": "ignored",
          "traceback": [
            "\u001b[0;31m---------------------------------------------------------------------------\u001b[0m",
            "\u001b[0;31mNameError\u001b[0m                                 Traceback (most recent call last)",
            "\u001b[0;32m<ipython-input-3-1a8f6a00c4b6>\u001b[0m in \u001b[0;36m<module>\u001b[0;34m()\u001b[0m\n\u001b[1;32m     12\u001b[0m \u001b[0mget_ipython\u001b[0m\u001b[0;34m(\u001b[0m\u001b[0;34m)\u001b[0m\u001b[0;34m.\u001b[0m\u001b[0msystem\u001b[0m\u001b[0;34m(\u001b[0m\u001b[0;34m\"mkdir '{folder_path_json}'\"\u001b[0m\u001b[0;34m)\u001b[0m\u001b[0;34m\u001b[0m\u001b[0;34m\u001b[0m\u001b[0m\n\u001b[1;32m     13\u001b[0m \u001b[0mget_ipython\u001b[0m\u001b[0;34m(\u001b[0m\u001b[0;34m)\u001b[0m\u001b[0;34m.\u001b[0m\u001b[0msystem\u001b[0m\u001b[0;34m(\u001b[0m\u001b[0;34m\"mkdir '{folder_path_image}'\"\u001b[0m\u001b[0;34m)\u001b[0m\u001b[0;34m\u001b[0m\u001b[0;34m\u001b[0m\u001b[0m\n\u001b[0;32m---> 14\u001b[0;31m \u001b[0mfiles\u001b[0m \u001b[0;34m=\u001b[0m \u001b[0mos\u001b[0m\u001b[0;34m.\u001b[0m\u001b[0mlistdir\u001b[0m\u001b[0;34m(\u001b[0m\u001b[0mfolder_path\u001b[0m\u001b[0;34m)\u001b[0m\u001b[0;34m\u001b[0m\u001b[0;34m\u001b[0m\u001b[0m\n\u001b[0m\u001b[1;32m     15\u001b[0m \u001b[0mfiles\u001b[0m\u001b[0;34m.\u001b[0m\u001b[0mreverse\u001b[0m\u001b[0;34m(\u001b[0m\u001b[0;34m)\u001b[0m\u001b[0;34m\u001b[0m\u001b[0;34m\u001b[0m\u001b[0m\n\u001b[1;32m     16\u001b[0m \u001b[0;32mfor\u001b[0m \u001b[0mfilename\u001b[0m \u001b[0;32min\u001b[0m \u001b[0mfiles\u001b[0m\u001b[0;34m:\u001b[0m\u001b[0;34m\u001b[0m\u001b[0;34m\u001b[0m\u001b[0m\n",
            "\u001b[0;31mNameError\u001b[0m: name 'folder_path' is not defined"
          ]
        }
      ]
    },
    {
      "cell_type": "markdown",
      "metadata": {
        "id": "RpFb-LsdNr9t"
      },
      "source": [
        "## Rename files"
      ]
    },
    {
      "cell_type": "code",
      "metadata": {
        "id": "mOksOdS16owQ"
      },
      "source": [
        "import glob\n",
        "import os\n",
        "import re\n",
        "def get_trailing_number(s):\n",
        "\tm = re.search(r'\\d+$', s)\n",
        "\treturn int(m.group()) if m else None\n",
        "  \n",
        "# Function to rename multiple files \n",
        "def main(mypath, name_stub, len_num, remove): \n",
        "\tcount = 0 \n",
        "\tfiles = glob.glob(mypath+\"*.json\")\n",
        "\tprint(files)\n",
        "\tfor current in files:\n",
        "\t\tnumber_trailing = re.findall('\\d+',current )\n",
        "\t\tnumber_trailing = [s.lstrip(\"0\") for s in number_trailing]\n",
        "\t\t\n",
        "\t\t#print(number_trailing)\n",
        "\t\tif remove==True:\n",
        "\t\t\tos.rename(current, mypath+name_stub+str(number_trailing[0]).zfill(len_num)+\"_keypoints\")#+\".json\") \n",
        "\t\t\tprint(current, mypath+name_stub+str(number_trailing[0]).zfill(len_num)+\"_keypoints\")\n",
        "\t\telse:\n",
        "\t\t\tos.rename(current, mypath+name_stub+str(number_trailing[0]).zfill(len_num)+\"_keypoints\"+\".json\") \n",
        "\t\t\tprint(current, mypath+name_stub+str(number_trailing[0]).zfill(len_num)+\"_keypoints\"+'.json')\n",
        "\t\tcount = count + 1\n",
        "\n",
        "def main_2(mypath, name_stub, len_num, remove): \n",
        "\tcount = 0 \n",
        "\tfiles = glob.glob(mypath+\"*.jpg\")\n",
        "\tprint(files)\n",
        "\tfor current in files:\n",
        "\t\tnumber_trailing = re.findall('\\d+',current )\n",
        "\t\tnumber_trailing = [s.lstrip(\"0\") for s in number_trailing]\n",
        "\t\t\n",
        "\t\tif remove==True:\n",
        "\t\t\tos.rename(current, mypath+name_stub+str(number_trailing[0]).zfill(len_num))#+\".jpg\") \n",
        "\t\t\tprint(current, mypath+name_stub+str(number_trailing[0]).zfill(len_num))\n",
        "\t\telse:\n",
        "\t\t\tos.rename(current, mypath+name_stub+str(number_trailing[0]).zfill(len_num)+\".jpg\") \n",
        "\t\t\tprint(current, mypath+name_stub+str(number_trailing[0]).zfill(len_num)+\".jpg\") \n",
        "\t\tcount = count + 1\n",
        "  \n",
        "  \n",
        "# Driver Code \n",
        "import sys\n",
        "\n",
        "#print(sys.argv)\n",
        "if sys.argv[2] == 'json':\n",
        "\tmain(sys.argv[1], \"output_\",6) \n",
        "if sys.argv[2] == 'jpg':\n",
        "\tmain_2(sys.argv[1], \"output_\",6) "
      ],
      "execution_count": null,
      "outputs": []
    },
    {
      "cell_type": "code",
      "metadata": {
        "id": "b5YQbAYg5SB1"
      },
      "source": [
        "%%capture\n",
        "\n",
        "main(folder_path_json, \"output_\", 6, False)\n",
        "\n",
        "main_2(folder_path_image, \"output_\", 6, False)"
      ],
      "execution_count": null,
      "outputs": []
    },
    {
      "cell_type": "code",
      "metadata": {
        "id": "1rijUIklVuiI"
      },
      "source": [
        "!ls '{folder_path_json}' | wc -l"
      ],
      "execution_count": null,
      "outputs": []
    },
    {
      "cell_type": "markdown",
      "metadata": {
        "id": "b7OF7dLmlZHn"
      },
      "source": [
        "# Making dataset"
      ]
    },
    {
      "cell_type": "code",
      "metadata": {
        "id": "OOOSfGBjVWJV"
      },
      "source": [
        "# !python /content/EverybodyDanceNow/data_prep/graph_train.py \\\n",
        "# --keypoints_dir '{folder_path_json}' \\\n",
        "# --frames_dir '{folder_path_image}' \\\n",
        "# --save_dir '{train_results}' \\\n",
        "#  --spread 0 5000 1 \\\n",
        "#  --facetexts"
      ],
      "execution_count": null,
      "outputs": []
    },
    {
      "cell_type": "code",
      "metadata": {
        "id": "3CvML1GGLfTZ"
      },
      "source": [
        "!python /content/EverybodyDanceNow/data_prep/graph_avesmooth.py \\\n",
        "--keypoints_dir '{folder_path_json}' \\\n",
        "--frames_dir '{folder_path_image}' \\\n",
        "--save_dir '{avesmooth_results}' \\\n",
        "--spread 150 5000 1 \\\n",
        "--facetexts"
      ],
      "execution_count": null,
      "outputs": []
    },
    {
      "cell_type": "code",
      "metadata": {
        "id": "wIemcYYfw9t8"
      },
      "source": [
        "!ls '{path_images}' | wc -l"
      ],
      "execution_count": null,
      "outputs": []
    },
    {
      "cell_type": "code",
      "metadata": {
        "id": "gzlVTfYQ6jA4"
      },
      "source": [
        "!python /content/EverybodyDanceNow/data_prep/graph_posenorm.py \\\n",
        "--target_keypoints '{target}' \\\n",
        "--source_keypoints '{folder_path_json}' \\\n",
        "--source_shape 1080 1920 3 \\\n",
        "--target_shape 1080 1920 3 \\\n",
        "--source_frames '{folder_path_image}' \\\n",
        "--results '{result}' \\\n",
        "--calculate_scale_translation \\\n",
        "--target_spread 1 200 \\\n",
        "--source_spread 150 200 \\\n",
        "--format json \\\n",
        "--filestart \"output_\" \\\n",
        "--x_scaling 2 \\\n",
        "--y_scaling -5000 \\\n",
        "# --facetexts \\\n",
        "# --calculate_scale_translation  \\\n",
        "#filestart is the name of the file stub\n"
      ],
      "execution_count": null,
      "outputs": []
    },
    {
      "cell_type": "code",
      "metadata": {
        "id": "MbpCJ7SnraRK"
      },
      "source": [
        "!rm '{result_video}'ffmpeg.mp4\n",
        "!ffmpeg -framerate 30 -pattern_type glob -i '{result}''*.png' \\\n",
        "  -c:v libx264 -pix_fmt yuv420p '{result_video}'ffmpeg.mp4"
      ],
      "execution_count": null,
      "outputs": []
    },
    {
      "cell_type": "code",
      "metadata": {
        "id": "VlmaGxxBA9Oq"
      },
      "source": [
        ""
      ],
      "execution_count": null,
      "outputs": []
    }
  ]
}